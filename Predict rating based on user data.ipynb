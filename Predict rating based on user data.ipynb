{
  "nbformat": 4,
  "nbformat_minor": 0,
  "metadata": {
    "colab": {
      "name": "5102 project v2_finalized.ipynb",
      "provenance": [],
      "collapsed_sections": []
    },
    "kernelspec": {
      "name": "python3",
      "display_name": "Python 3"
    },
    "language_info": {
      "name": "python"
    }
  },
  "cells": [
    {
      "cell_type": "code",
      "metadata": {
        "id": "yv3fuagx8e6T",
        "colab": {
          "base_uri": "https://localhost:8080/"
        },
        "outputId": "15d5a0d4-f779-49f8-d5eb-5cc018209343"
      },
      "source": [
        "import os\n",
        "import csv\n",
        "import numpy as np\n",
        "from numpy.linalg import inv\n",
        "import pandas as pd\n",
        "import matplotlib.pyplot as plt\n",
        "import seaborn as sns\n",
        "import statsmodels.api as sm\n",
        "import pylab as py\n",
        "import scipy\n",
        "import statsmodels.formula.api as smf\n",
        "import statsmodels.graphics as sg\n",
        "from statsmodels.stats.outliers_influence import variance_inflation_factor\n",
        "from sklearn.linear_model import LogisticRegression\n",
        "from sklearn.metrics import classification_report,confusion_matrix"
      ],
      "execution_count": 1,
      "outputs": [
        {
          "output_type": "stream",
          "text": [
            "/usr/local/lib/python3.7/dist-packages/statsmodels/tools/_testing.py:19: FutureWarning: pandas.util.testing is deprecated. Use the functions in the public API at pandas.testing instead.\n",
            "  import pandas.util.testing as tm\n"
          ],
          "name": "stderr"
        }
      ]
    },
    {
      "cell_type": "code",
      "metadata": {
        "id": "ayNujREt6935"
      },
      "source": [
        "# data load - user\n",
        "df = pd.read_csv('rating_with_user_metadata.csv')\n"
      ],
      "execution_count": 2,
      "outputs": []
    },
    {
      "cell_type": "markdown",
      "metadata": {
        "id": "L5wVIrgUs_Z7"
      },
      "source": [
        "data process"
      ]
    },
    {
      "cell_type": "code",
      "metadata": {
        "id": "DRXpB7H1AnHI"
      },
      "source": [
        "# Regroup the occupation to 4 levels\n",
        "# 0 for Other, 1 for while collar , 2 for blue collar, 3 for academic \n",
        "conditions = [\n",
        "    (df['Occupation'] == 0 ) | (df['Occupation'] == 13) | (df['Occupation'] == 16) | (df['Occupation'] == 19),  #0 \n",
        "    (df['Occupation'] == 8 ) | (df['Occupation'] == 9) | (df['Occupation'] == 17) | (df['Occupation'] == 18), #2\n",
        "    (df['Occupation'] == 1 ) | (df['Occupation'] == 4) | (df['Occupation'] == 10) | (df['Occupation'] == 15) #3\n",
        "]\n",
        "choices = [0,2,3] # 0 for Other, 1 for while collar , 2 for blue collar, 3 for academic \n",
        "df['new_occupation'] = np.select(conditions, choices, default='1')\n"
      ],
      "execution_count": 3,
      "outputs": []
    },
    {
      "cell_type": "code",
      "metadata": {
        "colab": {
          "base_uri": "https://localhost:8080/",
          "height": 258
        },
        "id": "kv-cx29glWyD",
        "outputId": "3acd02c2-b132-442b-bcb0-6c7a42ea30a9"
      },
      "source": [
        "# Regroup Age to 6 levels\n",
        "df['new_age']=np.where(df['Age'] <18,'0-18',\n",
        "                      np.where( np.logical_and(df['Age'] >=18, df['Age'] <25) ,'18-24',\n",
        "                               np.where( np.logical_and(df['Age'] >=25, df['Age'] <35) ,'25-34',\n",
        "                                       np.where( np.logical_and(df['Age'] >=35, df['Age'] <45) ,'35-44',\n",
        "                                                np.where( np.logical_and(df['Age'] >=45, df['Age'] <55) ,'45-54',\n",
        "                                                         '55+')\n",
        "                                       )\n",
        "                              )\n",
        "                      )\n",
        "                      )\n",
        "df.groupby('new_age').count()[['userId']]\n",
        "\n"
      ],
      "execution_count": 4,
      "outputs": [
        {
          "output_type": "execute_result",
          "data": {
            "text/html": [
              "<div>\n",
              "<style scoped>\n",
              "    .dataframe tbody tr th:only-of-type {\n",
              "        vertical-align: middle;\n",
              "    }\n",
              "\n",
              "    .dataframe tbody tr th {\n",
              "        vertical-align: top;\n",
              "    }\n",
              "\n",
              "    .dataframe thead th {\n",
              "        text-align: right;\n",
              "    }\n",
              "</style>\n",
              "<table border=\"1\" class=\"dataframe\">\n",
              "  <thead>\n",
              "    <tr style=\"text-align: right;\">\n",
              "      <th></th>\n",
              "      <th>userId</th>\n",
              "    </tr>\n",
              "    <tr>\n",
              "      <th>new_age</th>\n",
              "      <th></th>\n",
              "    </tr>\n",
              "  </thead>\n",
              "  <tbody>\n",
              "    <tr>\n",
              "      <th>0-18</th>\n",
              "      <td>28002</td>\n",
              "    </tr>\n",
              "    <tr>\n",
              "      <th>18-24</th>\n",
              "      <td>106787</td>\n",
              "    </tr>\n",
              "    <tr>\n",
              "      <th>25-34</th>\n",
              "      <td>221885</td>\n",
              "    </tr>\n",
              "    <tr>\n",
              "      <th>35-44</th>\n",
              "      <td>113660</td>\n",
              "    </tr>\n",
              "    <tr>\n",
              "      <th>45-54</th>\n",
              "      <td>91035</td>\n",
              "    </tr>\n",
              "    <tr>\n",
              "      <th>55+</th>\n",
              "      <td>36455</td>\n",
              "    </tr>\n",
              "  </tbody>\n",
              "</table>\n",
              "</div>"
            ],
            "text/plain": [
              "         userId\n",
              "new_age        \n",
              "0-18      28002\n",
              "18-24    106787\n",
              "25-34    221885\n",
              "35-44    113660\n",
              "45-54     91035\n",
              "55+       36455"
            ]
          },
          "metadata": {
            "tags": []
          },
          "execution_count": 4
        }
      ]
    },
    {
      "cell_type": "code",
      "metadata": {
        "id": "ek8vk0c29y8L"
      },
      "source": [
        "# convert to label\n",
        "from sklearn import preprocessing\n",
        "le = preprocessing.LabelEncoder()\n",
        "df['Gender']=le.fit_transform(df['Gender'])\n",
        "df['new_occupation']= le.fit_transform(df['new_occupation'])\n",
        "df['new_age']= le.fit_transform(df['new_age'])\n",
        "# df['new_rating']=le.fit_transform(df['rating'])\n",
        "# df['new_rating']=le.inverse_transform(df['new_rating'])\n",
        "df['new_rating']= df['rating'].astype(str)\n"
      ],
      "execution_count": 6,
      "outputs": []
    },
    {
      "cell_type": "code",
      "metadata": {
        "id": "NBxBl89HKCTl"
      },
      "source": [
        "df[['new_occupation','Gender','new_rating','new_age']]\n"
      ],
      "execution_count": null,
      "outputs": []
    },
    {
      "cell_type": "code",
      "metadata": {
        "id": "NNd3ZgytN-fa",
        "colab": {
          "base_uri": "https://localhost:8080/",
          "height": 313
        },
        "outputId": "afd17554-514d-42ff-f1ed-0ca9f03bf53d"
      },
      "source": [
        "# plot of distribution of occupation \n",
        "sns.countplot(x='Occupation',data=df,palette='coolwarm').set_title('Occupation')\n"
      ],
      "execution_count": 8,
      "outputs": [
        {
          "output_type": "execute_result",
          "data": {
            "text/plain": [
              "Text(0.5, 1.0, 'Occupation')"
            ]
          },
          "metadata": {
            "tags": []
          },
          "execution_count": 8
        },
        {
          "output_type": "display_data",
          "data": {
            "image/png": "[encoded data removed]",
            "text/plain": [
              "<Figure size 432x288 with 1 Axes>"
            ]
          },
          "metadata": {
            "tags": [],
            "needs_background": "light"
          }
        }
      ]
    },
    {
      "cell_type": "code",
      "metadata": {
        "id": "Qlu2mv6UMcEk",
        "colab": {
          "base_uri": "https://localhost:8080/",
          "height": 371
        },
        "outputId": "be944afa-cd6b-4489-c3f7-370d05b14c1e"
      },
      "source": [
        "# plot of distribution of regrouped occupation \n",
        "# 0 for Other, 1 for while collar , 2 for blue collar, 3 for academic \n",
        "sns.countplot(df['new_occupation'],palette='coolwarm').set_title('Regrouped Occupation')\n"
      ],
      "execution_count": 9,
      "outputs": [
        {
          "output_type": "stream",
          "text": [
            "/usr/local/lib/python3.7/dist-packages/seaborn/_decorators.py:43: FutureWarning: Pass the following variable as a keyword arg: x. From version 0.12, the only valid positional argument will be `data`, and passing other arguments without an explicit keyword will result in an error or misinterpretation.\n",
            "  FutureWarning\n"
          ],
          "name": "stderr"
        },
        {
          "output_type": "execute_result",
          "data": {
            "text/plain": [
              "Text(0.5, 1.0, 'Regrouped Occupation')"
            ]
          },
          "metadata": {
            "tags": []
          },
          "execution_count": 9
        },
        {
          "output_type": "display_data",
          "data": {
            "image/png": "[encoded data removed]",
            "text/plain": [
              "<Figure size 432x288 with 1 Axes>"
            ]
          },
          "metadata": {
            "tags": [],
            "needs_background": "light"
          }
        }
      ]
    },
    {
      "cell_type": "markdown",
      "metadata": {
        "id": "flX9aBAW0R8H"
      },
      "source": [
        "Mulitnominal Logistic Regression\n",
        "\n",
        "\n",
        "We are tring to run a model of multinominal logistic regression to try to predict the raing simply based on Gender, Occupation, Age group.\n"
      ]
    },
    {
      "cell_type": "code",
      "metadata": {
        "id": "pTkKBEt3kguT"
      },
      "source": [
        "#sklearn MlogR\n",
        "\n",
        "Xtrain0 = df[['Gender','new_occupation','new_age']]\n",
        "ytrain0 = df['new_rating']\n",
        "\n",
        "# lr = LogisticRegression(solver='liblinear')\n",
        "lr = LogisticRegression(multi_class='multinomial',max_iter=200)\n",
        "lr.fit(Xtrain0, ytrain0)\n",
        "preds = lr.predict(Xtrain0)"
      ],
      "execution_count": 12,
      "outputs": []
    },
    {
      "cell_type": "code",
      "metadata": {
        "colab": {
          "base_uri": "https://localhost:8080/",
          "height": 348
        },
        "id": "Mqpkdr2g8d6U",
        "outputId": "05c00c01-9eb9-4688-b682-e3d93202d080"
      },
      "source": [
        "#Create confusion matrix\n",
        "confmtrx = np.array(confusion_matrix(ytrain0,preds))\n",
        "#rows for true rating, columns for predicted rating \n",
        "pd.DataFrame(confmtrx, index=[np.arange(0.5,5.5,0.5)], columns=[np.arange(0.5,5.5,0.5)])"
      ],
      "execution_count": null,
      "outputs": [
        {
          "output_type": "execute_result",
          "data": {
            "text/html": [
              "<div>\n",
              "<style scoped>\n",
              "    .dataframe tbody tr th:only-of-type {\n",
              "        vertical-align: middle;\n",
              "    }\n",
              "\n",
              "    .dataframe tbody tr th {\n",
              "        vertical-align: top;\n",
              "    }\n",
              "\n",
              "    .dataframe thead tr th {\n",
              "        text-align: left;\n",
              "    }\n",
              "</style>\n",
              "<table border=\"1\" class=\"dataframe\">\n",
              "  <thead>\n",
              "    <tr>\n",
              "      <th></th>\n",
              "      <th>0.5</th>\n",
              "      <th>1.0</th>\n",
              "      <th>1.5</th>\n",
              "      <th>2.0</th>\n",
              "      <th>2.5</th>\n",
              "      <th>3.0</th>\n",
              "      <th>3.5</th>\n",
              "      <th>4.0</th>\n",
              "      <th>4.5</th>\n",
              "      <th>5.0</th>\n",
              "    </tr>\n",
              "  </thead>\n",
              "  <tbody>\n",
              "    <tr>\n",
              "      <th>0.5</th>\n",
              "      <td>0</td>\n",
              "      <td>0</td>\n",
              "      <td>0</td>\n",
              "      <td>0</td>\n",
              "      <td>0</td>\n",
              "      <td>0</td>\n",
              "      <td>0</td>\n",
              "      <td>7281</td>\n",
              "      <td>0</td>\n",
              "      <td>0</td>\n",
              "    </tr>\n",
              "    <tr>\n",
              "      <th>1.0</th>\n",
              "      <td>0</td>\n",
              "      <td>0</td>\n",
              "      <td>0</td>\n",
              "      <td>0</td>\n",
              "      <td>0</td>\n",
              "      <td>0</td>\n",
              "      <td>0</td>\n",
              "      <td>17671</td>\n",
              "      <td>0</td>\n",
              "      <td>0</td>\n",
              "    </tr>\n",
              "    <tr>\n",
              "      <th>1.5</th>\n",
              "      <td>0</td>\n",
              "      <td>0</td>\n",
              "      <td>0</td>\n",
              "      <td>0</td>\n",
              "      <td>0</td>\n",
              "      <td>0</td>\n",
              "      <td>0</td>\n",
              "      <td>8092</td>\n",
              "      <td>0</td>\n",
              "      <td>0</td>\n",
              "    </tr>\n",
              "    <tr>\n",
              "      <th>2.0</th>\n",
              "      <td>0</td>\n",
              "      <td>0</td>\n",
              "      <td>0</td>\n",
              "      <td>0</td>\n",
              "      <td>0</td>\n",
              "      <td>0</td>\n",
              "      <td>0</td>\n",
              "      <td>39823</td>\n",
              "      <td>0</td>\n",
              "      <td>0</td>\n",
              "    </tr>\n",
              "    <tr>\n",
              "      <th>2.5</th>\n",
              "      <td>0</td>\n",
              "      <td>0</td>\n",
              "      <td>0</td>\n",
              "      <td>0</td>\n",
              "      <td>0</td>\n",
              "      <td>0</td>\n",
              "      <td>0</td>\n",
              "      <td>29719</td>\n",
              "      <td>0</td>\n",
              "      <td>0</td>\n",
              "    </tr>\n",
              "    <tr>\n",
              "      <th>3.0</th>\n",
              "      <td>0</td>\n",
              "      <td>0</td>\n",
              "      <td>0</td>\n",
              "      <td>0</td>\n",
              "      <td>0</td>\n",
              "      <td>0</td>\n",
              "      <td>0</td>\n",
              "      <td>122700</td>\n",
              "      <td>0</td>\n",
              "      <td>0</td>\n",
              "    </tr>\n",
              "    <tr>\n",
              "      <th>3.5</th>\n",
              "      <td>0</td>\n",
              "      <td>0</td>\n",
              "      <td>0</td>\n",
              "      <td>0</td>\n",
              "      <td>0</td>\n",
              "      <td>0</td>\n",
              "      <td>0</td>\n",
              "      <td>74522</td>\n",
              "      <td>0</td>\n",
              "      <td>0</td>\n",
              "    </tr>\n",
              "    <tr>\n",
              "      <th>4.0</th>\n",
              "      <td>0</td>\n",
              "      <td>0</td>\n",
              "      <td>0</td>\n",
              "      <td>0</td>\n",
              "      <td>0</td>\n",
              "      <td>0</td>\n",
              "      <td>0</td>\n",
              "      <td>160631</td>\n",
              "      <td>0</td>\n",
              "      <td>0</td>\n",
              "    </tr>\n",
              "    <tr>\n",
              "      <th>4.5</th>\n",
              "      <td>0</td>\n",
              "      <td>0</td>\n",
              "      <td>0</td>\n",
              "      <td>0</td>\n",
              "      <td>0</td>\n",
              "      <td>0</td>\n",
              "      <td>0</td>\n",
              "      <td>50790</td>\n",
              "      <td>0</td>\n",
              "      <td>0</td>\n",
              "    </tr>\n",
              "    <tr>\n",
              "      <th>5.0</th>\n",
              "      <td>0</td>\n",
              "      <td>0</td>\n",
              "      <td>0</td>\n",
              "      <td>0</td>\n",
              "      <td>0</td>\n",
              "      <td>0</td>\n",
              "      <td>0</td>\n",
              "      <td>86595</td>\n",
              "      <td>0</td>\n",
              "      <td>0</td>\n",
              "    </tr>\n",
              "  </tbody>\n",
              "</table>\n",
              "</div>"
            ],
            "text/plain": [
              "    0.5 1.0 1.5 2.0 2.5 3.0 3.5     4.0 4.5 5.0\n",
              "0.5   0   0   0   0   0   0   0    7281   0   0\n",
              "1.0   0   0   0   0   0   0   0   17671   0   0\n",
              "1.5   0   0   0   0   0   0   0    8092   0   0\n",
              "2.0   0   0   0   0   0   0   0   39823   0   0\n",
              "2.5   0   0   0   0   0   0   0   29719   0   0\n",
              "3.0   0   0   0   0   0   0   0  122700   0   0\n",
              "3.5   0   0   0   0   0   0   0   74522   0   0\n",
              "4.0   0   0   0   0   0   0   0  160631   0   0\n",
              "4.5   0   0   0   0   0   0   0   50790   0   0\n",
              "5.0   0   0   0   0   0   0   0   86595   0   0"
            ]
          },
          "metadata": {
            "tags": []
          },
          "execution_count": 112
        }
      ]
    },
    {
      "cell_type": "code",
      "metadata": {
        "colab": {
          "base_uri": "https://localhost:8080/"
        },
        "id": "RR5SfQon57kD",
        "outputId": "31a41358-b89d-4637-ab8d-06d5fcabe867"
      },
      "source": [
        "from sklearn.metrics import accuracy_score\n",
        "1-accuracy_score(preds,ytrain0)#calculate error rate\n"
      ],
      "execution_count": 14,
      "outputs": [
        {
          "output_type": "execute_result",
          "data": {
            "text/plain": [
              "0.7313072074724334"
            ]
          },
          "metadata": {
            "tags": []
          },
          "execution_count": 14
        }
      ]
    },
    {
      "cell_type": "markdown",
      "metadata": {
        "id": "6viux0umEFS4"
      },
      "source": [
        "From the output, the error rate very high (73%) that we can conclued that the model of multinominal logistic model is not useful.\n",
        "We cannot simply predict rating only by Gender, Occupation, Age group."
      ]
    }
  ]
}